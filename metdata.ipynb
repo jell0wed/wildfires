{
 "cells": [
  {
   "cell_type": "code",
   "execution_count": 1,
   "metadata": {},
   "outputs": [],
   "source": [
    "from datetime import datetime, timedelta\n",
    "import pandas as pd\n",
    "import numpy as np\n",
    "import xarray as xr\n",
    "from IPython.display import display"
   ]
  },
  {
   "cell_type": "code",
   "execution_count": 2,
   "metadata": {},
   "outputs": [
    {
     "name": "stdout",
     "output_type": "stream",
     "text": [
      "loaded df\n"
     ]
    },
    {
     "name": "stderr",
     "output_type": "stream",
     "text": [
      "C:\\Users\\jepoisso\\Anaconda3\\lib\\site-packages\\IPython\\core\\interactiveshell.py:3071: DtypeWarning: Columns (16,18) have mixed types.Specify dtype option on import or set low_memory=False.\n",
      "  has_raised = await self.run_ast_nodes(code_ast.body, cell_name,\n"
     ]
    }
   ],
   "source": [
    "# load wildfire dataset\n",
    "df = pd.read_csv(\"wildfires.csv\")\n",
    "print(\"loaded df\")"
   ]
  },
  {
   "cell_type": "code",
   "execution_count": 3,
   "metadata": {},
   "outputs": [],
   "source": [
    "# define the dataset settings\n",
    "mnet_datasets = [\n",
    "    #{\n",
    "    #    'name': 'pdsi',\n",
    "    #    'col': 'palmer_drought_severity_index',\n",
    "    #    'ops': ['min', 'max', 'avg', 'count']\n",
    "    #},\n",
    "    {\n",
    "        'name': 'pr',\n",
    "        'col': 'precipitation_amount',\n",
    "        'ops': ['min', 'max', 'avg', 'count']\n",
    "    },\n",
    "    {\n",
    "        'name': 'rmax',\n",
    "        'col': 'relative_humidity',\n",
    "        'ops': ['min', 'max', 'avg', 'count']\n",
    "    },\n",
    "    {\n",
    "        'name': 'rmin',\n",
    "        'col': 'relative_humidity',\n",
    "        'ops': ['min', 'max', 'avg', 'count']\n",
    "    },\n",
    "    {\n",
    "        'name': 'tmmn',\n",
    "        'col': 'air_temperature',\n",
    "        'ops': ['min', 'max', 'avg', 'count']\n",
    "    },\n",
    "    {\n",
    "        'name': 'tmmx',\n",
    "        'col': 'air_temperature',\n",
    "        'ops': ['min', 'max', 'avg', 'count']\n",
    "    },\n",
    "    {\n",
    "        'name': 'vs',\n",
    "        'col': 'air_temperature',\n",
    "        'ops': ['min', 'max', 'avg', 'count']\n",
    "    }\n",
    "]\n",
    "# constant values\n",
    "jan1st1900 = datetime(1900, 1, 1)\n",
    "progress_count = 100"
   ]
  },
  {
   "cell_type": "code",
   "execution_count": 4,
   "metadata": {},
   "outputs": [],
   "source": [
    "# main function for executing the different operations for each series\n",
    "def execute_op(op, entries_df):\n",
    "    l = len(entries_df)\n",
    "    # optimization: xarray.sel is inclusive, hence 2 entries is essentially one entry\n",
    "    if op == 'min':\n",
    "        return entries_df.min() if l > 2 else entries_df.iloc[0]\n",
    "    elif op == 'max':\n",
    "        return entries_df.max() if l > 2 else entries_df.iloc[0]\n",
    "    elif op == 'avg':\n",
    "        return entries_df.mean() if l > 2 else entries_df.iloc[0]\n",
    "    elif op == 'count':\n",
    "        return l\n",
    "    return np.nan"
   ]
  },
  {
   "cell_type": "code",
   "execution_count": 6,
   "metadata": {},
   "outputs": [
    {
     "name": "stdout",
     "output_type": "stream",
     "text": [
      "opened up mnet/pdsi_2005.nc\n"
     ]
    },
    {
     "data": {
      "text/plain": [
       "\"[1606584785] 'mnet/pdsi_2005.nc' dataset progress: 88600 / 88604 [1.00] (0 invalids)\""
      ]
     },
     "metadata": {},
     "output_type": "display_data"
    },
    {
     "name": "stdout",
     "output_type": "stream",
     "text": [
      "finished with mnet/pdsi_2005.nc, processed = 88604, invalid = 0 : took 341 seconds\n",
      "opened up mnet/pdsi_2004.nc\n"
     ]
    },
    {
     "data": {
      "text/plain": [
       "\"[1606585035] 'mnet/pdsi_2004.nc' dataset progress: 69200 / 69279 [1.00] (0 invalids)\""
      ]
     },
     "metadata": {},
     "output_type": "display_data"
    },
    {
     "name": "stdout",
     "output_type": "stream",
     "text": [
      "finished with mnet/pdsi_2004.nc, processed = 69279, invalid = 0 : took 250 seconds\n",
      "opened up mnet/pdsi_2006.nc\n"
     ]
    },
    {
     "data": {
      "text/plain": [
       "\"[1606586196] 'mnet/pdsi_2006.nc' dataset progress: 114000 / 114004 [1.00] (0 invalids)\""
      ]
     },
     "metadata": {},
     "output_type": "display_data"
    },
    {
     "name": "stdout",
     "output_type": "stream",
     "text": [
      "finished with mnet/pdsi_2006.nc, processed = 114004, invalid = 0 : took 1160 seconds\n",
      "opened up mnet/pdsi_2008.nc\n"
     ]
    },
    {
     "data": {
      "text/plain": [
       "\"[1606586681] 'mnet/pdsi_2008.nc' dataset progress: 85300 / 85378 [1.00] (0 invalids)\""
      ]
     },
     "metadata": {},
     "output_type": "display_data"
    },
    {
     "name": "stdout",
     "output_type": "stream",
     "text": [
      "finished with mnet/pdsi_2008.nc, processed = 85378, invalid = 0 : took 485 seconds\n",
      "opened up mnet/pdsi_2002.nc\n"
     ]
    },
    {
     "data": {
      "text/plain": [
       "\"[1606587725] 'mnet/pdsi_2002.nc' dataset progress: 75600 / 75656 [1.00] (0 invalids)\""
      ]
     },
     "metadata": {},
     "output_type": "display_data"
    },
    {
     "name": "stdout",
     "output_type": "stream",
     "text": [
      "finished with mnet/pdsi_2002.nc, processed = 75656, invalid = 0 : took 1044 seconds\n",
      "opened up mnet/pdsi_2007.nc\n"
     ]
    },
    {
     "data": {
      "text/plain": [
       "\"[1606589056] 'mnet/pdsi_2007.nc' dataset progress: 95500 / 95573 [1.00] (0 invalids)\""
      ]
     },
     "metadata": {},
     "output_type": "display_data"
    },
    {
     "name": "stdout",
     "output_type": "stream",
     "text": [
      "finished with mnet/pdsi_2007.nc, processed = 95573, invalid = 0 : took 1330 seconds\n",
      "opened up mnet/pdsi_2009.nc\n"
     ]
    },
    {
     "data": {
      "text/plain": [
       "\"[1606589613] 'mnet/pdsi_2009.nc' dataset progress: 78300 / 78325 [1.00] (0 invalids)\""
      ]
     },
     "metadata": {},
     "output_type": "display_data"
    },
    {
     "name": "stdout",
     "output_type": "stream",
     "text": [
      "finished with mnet/pdsi_2009.nc, processed = 78325, invalid = 0 : took 556 seconds\n",
      "opened up mnet/pdsi_2001.nc\n"
     ]
    },
    {
     "data": {
      "text/plain": [
       "\"[1606589931] 'mnet/pdsi_2001.nc' dataset progress: 86500 / 86587 [1.00] (0 invalids)\""
      ]
     },
     "metadata": {},
     "output_type": "display_data"
    },
    {
     "name": "stdout",
     "output_type": "stream",
     "text": [
      "finished with mnet/pdsi_2001.nc, processed = 86587, invalid = 0 : took 318 seconds\n",
      "opened up mnet/pdsi_2003.nc\n"
     ]
    },
    {
     "data": {
      "text/plain": [
       "\"[1606590162] 'mnet/pdsi_2003.nc' dataset progress: 68200 / 68261 [1.00] (0 invalids)\""
      ]
     },
     "metadata": {},
     "output_type": "display_data"
    },
    {
     "name": "stdout",
     "output_type": "stream",
     "text": [
      "finished with mnet/pdsi_2003.nc, processed = 68261, invalid = 0 : took 230 seconds\n",
      "opened up mnet/pdsi_1992.nc\n"
     ]
    },
    {
     "data": {
      "text/plain": [
       "\"[1606602105] 'mnet/pdsi_1992.nc' dataset progress: 67900 / 67975 [1.00] (0 invalids)\""
      ]
     },
     "metadata": {},
     "output_type": "display_data"
    },
    {
     "name": "stdout",
     "output_type": "stream",
     "text": [
      "finished with mnet/pdsi_1992.nc, processed = 67975, invalid = 0 : took 11943 seconds\n",
      "opened up mnet/pdsi_1993.nc\n"
     ]
    },
    {
     "data": {
      "text/plain": [
       "\"[1606602343] 'mnet/pdsi_1993.nc' dataset progress: 61900 / 61989 [1.00] (0 invalids)\""
      ]
     },
     "metadata": {},
     "output_type": "display_data"
    },
    {
     "name": "stdout",
     "output_type": "stream",
     "text": [
      "finished with mnet/pdsi_1993.nc, processed = 61989, invalid = 0 : took 237 seconds\n",
      "opened up mnet/pdsi_1994.nc\n"
     ]
    },
    {
     "data": {
      "text/plain": [
       "\"[1606602613] 'mnet/pdsi_1994.nc' dataset progress: 75900 / 75955 [1.00] (0 invalids)\""
      ]
     },
     "metadata": {},
     "output_type": "display_data"
    },
    {
     "name": "stdout",
     "output_type": "stream",
     "text": [
      "finished with mnet/pdsi_1994.nc, processed = 75955, invalid = 0 : took 270 seconds\n",
      "opened up mnet/pdsi_1995.nc\n"
     ]
    },
    {
     "data": {
      "text/plain": [
       "\"[1606602879] 'mnet/pdsi_1995.nc' dataset progress: 71400 / 71472 [1.00] (0 invalids)\""
      ]
     },
     "metadata": {},
     "output_type": "display_data"
    },
    {
     "name": "stdout",
     "output_type": "stream",
     "text": [
      "finished with mnet/pdsi_1995.nc, processed = 71472, invalid = 0 : took 265 seconds\n",
      "opened up mnet/pdsi_1996.nc\n"
     ]
    },
    {
     "data": {
      "text/plain": [
       "\"[1606603165] 'mnet/pdsi_1996.nc' dataset progress: 75500 / 75574 [1.00] (0 invalids)\""
      ]
     },
     "metadata": {},
     "output_type": "display_data"
    },
    {
     "name": "stdout",
     "output_type": "stream",
     "text": [
      "finished with mnet/pdsi_1996.nc, processed = 75574, invalid = 0 : took 286 seconds\n",
      "opened up mnet/pdsi_1997.nc\n"
     ]
    },
    {
     "data": {
      "text/plain": [
       "\"[1606603425] 'mnet/pdsi_1997.nc' dataset progress: 61400 / 61450 [1.00] (0 invalids)\""
      ]
     },
     "metadata": {},
     "output_type": "display_data"
    },
    {
     "name": "stdout",
     "output_type": "stream",
     "text": [
      "finished with mnet/pdsi_1997.nc, processed = 61450, invalid = 0 : took 259 seconds\n",
      "opened up mnet/pdsi_1998.nc\n"
     ]
    },
    {
     "data": {
      "text/plain": [
       "\"[1606603707] 'mnet/pdsi_1998.nc' dataset progress: 68300 / 68370 [1.00] (0 invalids)\""
      ]
     },
     "metadata": {},
     "output_type": "display_data"
    },
    {
     "name": "stdout",
     "output_type": "stream",
     "text": [
      "finished with mnet/pdsi_1998.nc, processed = 68370, invalid = 0 : took 282 seconds\n",
      "opened up mnet/pdsi_1999.nc\n"
     ]
    },
    {
     "data": {
      "text/plain": [
       "\"[1606604072] 'mnet/pdsi_1999.nc' dataset progress: 89300 / 89363 [1.00] (0 invalids)\""
      ]
     },
     "metadata": {},
     "output_type": "display_data"
    },
    {
     "name": "stdout",
     "output_type": "stream",
     "text": [
      "finished with mnet/pdsi_1999.nc, processed = 89363, invalid = 0 : took 364 seconds\n",
      "opened up mnet/pdsi_2000.nc\n"
     ]
    },
    {
     "data": {
      "text/plain": [
       "\"[1606604446] 'mnet/pdsi_2000.nc' dataset progress: 96400 / 96416 [1.00] (0 invalids)\""
      ]
     },
     "metadata": {},
     "output_type": "display_data"
    },
    {
     "name": "stdout",
     "output_type": "stream",
     "text": [
      "finished with mnet/pdsi_2000.nc, processed = 96416, invalid = 0 : took 373 seconds\n",
      "opened up mnet/pdsi_2010.nc\n"
     ]
    },
    {
     "data": {
      "text/plain": [
       "\"[1606604748] 'mnet/pdsi_2010.nc' dataset progress: 79800 / 79889 [1.00] (0 invalids)\""
      ]
     },
     "metadata": {},
     "output_type": "display_data"
    },
    {
     "name": "stdout",
     "output_type": "stream",
     "text": [
      "finished with mnet/pdsi_2010.nc, processed = 79889, invalid = 0 : took 302 seconds\n",
      "opened up mnet/pdsi_2011.nc\n"
     ]
    },
    {
     "data": {
      "text/plain": [
       "\"[1606605272] 'mnet/pdsi_2011.nc' dataset progress: 90500 / 90552 [1.00] (0 invalids)\""
      ]
     },
     "metadata": {},
     "output_type": "display_data"
    },
    {
     "name": "stdout",
     "output_type": "stream",
     "text": [
      "finished with mnet/pdsi_2011.nc, processed = 90552, invalid = 0 : took 524 seconds\n",
      "opened up mnet/pdsi_2012.nc\n"
     ]
    },
    {
     "data": {
      "text/plain": [
       "\"[1606605582] 'mnet/pdsi_2012.nc' dataset progress: 72700 / 72769 [1.00] (0 invalids)\""
      ]
     },
     "metadata": {},
     "output_type": "display_data"
    },
    {
     "name": "stdout",
     "output_type": "stream",
     "text": [
      "finished with mnet/pdsi_2012.nc, processed = 72769, invalid = 0 : took 309 seconds\n",
      "opened up mnet/pdsi_2013.nc\n"
     ]
    },
    {
     "data": {
      "text/plain": [
       "\"[1606605926] 'mnet/pdsi_2013.nc' dataset progress: 64700 / 64780 [1.00] (0 invalids)\""
      ]
     },
     "metadata": {},
     "output_type": "display_data"
    },
    {
     "name": "stdout",
     "output_type": "stream",
     "text": [
      "finished with mnet/pdsi_2013.nc, processed = 64780, invalid = 0 : took 344 seconds\n",
      "opened up mnet/pdsi_2014.nc\n"
     ]
    },
    {
     "data": {
      "text/plain": [
       "\"[1606606328] 'mnet/pdsi_2014.nc' dataset progress: 67700 / 67753 [1.00] (0 invalids)\""
      ]
     },
     "metadata": {},
     "output_type": "display_data"
    },
    {
     "name": "stdout",
     "output_type": "stream",
     "text": [
      "finished with mnet/pdsi_2014.nc, processed = 67753, invalid = 0 : took 401 seconds\n",
      "opened up mnet/pdsi_2015.nc\n"
     ]
    },
    {
     "data": {
      "text/plain": [
       "\"[1606606735] 'mnet/pdsi_2015.nc' dataset progress: 74400 / 74491 [1.00] (0 invalids)\""
      ]
     },
     "metadata": {},
     "output_type": "display_data"
    },
    {
     "name": "stdout",
     "output_type": "stream",
     "text": [
      "finished with mnet/pdsi_2015.nc, processed = 74491, invalid = 0 : took 407 seconds\n",
      "done processing entries! output is wildfire_augmented_1606606735.csv\n"
     ]
    }
   ],
   "source": [
    "# process the data & output progress\n",
    "years = df['FIRE_YEAR'].unique()\n",
    "for y in years:\n",
    "    # go through each dataset per year\n",
    "    for _, ds_metadata in enumerate(mnet_datasets):\n",
    "        mnet_ds_filename = 'mnet/%s_%d.nc' % (ds_metadata['name'], y)\n",
    "        mnet_ds = xr.open_dataset(mnet_ds_filename, decode_cf=False)\n",
    "        time_start = datetime.now().timestamp()\n",
    "        processed_count, invalid_count = 0, 0\n",
    "        \n",
    "        df_y = df[df['FIRE_YEAR'] == y]\n",
    "        print(\"opened up %s\" % mnet_ds_filename)\n",
    "        dh = display('opened up %s' % mnet_ds_filename, display_id=True)\n",
    "        # loop thru rows \n",
    "        for index, row in df_y.iterrows():\n",
    "            #print(\"> processing index %d for year %d and dataset %s\" % (index, y, mnet_ds_filename))\n",
    "            # date from year + day of year\n",
    "            f_year, disc_doy, cont_doy, latitude, longitude = row['FIRE_YEAR'], row['DISCOVERY_DOY'], row['CONT_DOY'], row['LATITUDE'], row['LONGITUDE']\n",
    "            if np.isnan(f_year) or np.isnan(disc_doy) or np.isnan(latitude) or np.isnan(longitude):\n",
    "                invalid_count += 1\n",
    "                print(\"\\tskipping invalid index %d\" % (index), f_year, disc_doy, cont_doy, latitude, longitude)\n",
    "                continue\n",
    "                \n",
    "            d_start = datetime(f_year, 1, 1) + timedelta(days=np.float64(disc_doy))\n",
    "            d_end = datetime(f_year, 1, 1) + (timedelta(days=np.float64(cont_doy)) if not np.isnan(cont_doy) else timedelta(days=np.float64(disc_doy)))\n",
    "            delta_start = (d_start - jan1st1900).days\n",
    "            delta_end = (d_end - jan1st1900).days\n",
    "            lat = np.float64(latitude)\n",
    "            lon = np.float64(longitude)\n",
    "            # select relevant entries in mnet_dataset\n",
    "            mnet_entries = mnet_ds.sel(day=[delta_start, delta_end], lon=lon, lat=lat, method=\"nearest\")\n",
    "            mnet_df = mnet_entries.to_dataframe()\n",
    "            # compute operations for entries and store in augment_cols\n",
    "            augment_cols = dict()\n",
    "            for op in ds_metadata['ops']:\n",
    "                col_key = \"%s_%s\" % (ds_metadata['name'], op)\n",
    "                augment_cols[col_key] = execute_op(op, mnet_df[ds_metadata['col']])\n",
    "                # update dataset with new column\n",
    "                df.at[index, col_key] = augment_cols[col_key]\n",
    "            processed_count += 1    \n",
    "            #print(\"\\tentry %d : %d mnet entries in %s: %s\" % (index, mnet_df.shape[0], mnet_ds_filename, augment_cols))\n",
    "            if processed_count % progress_count == 0:\n",
    "                percentage = (processed_count + invalid_count) / df_y.shape[0]\n",
    "                dh.update(\"[%d] '%s' dataset progress: %d / %d [%.2f] (%d invalids)\" % (datetime.now().timestamp(), mnet_ds_filename, (processed_count + invalid_count), df_y.shape[0], percentage, invalid_count))\n",
    "        time_end = datetime.now().timestamp()\n",
    "        time_delta = time_end - time_start\n",
    "        print(\"finished with %s, processed = %d, invalid = %d : took %d seconds\" % (mnet_ds_filename, processed_count, invalid_count, time_delta))\n",
    "    \n",
    "output_f = \"wildfire_augmented_%d.csv\" % datetime.now().timestamp() \n",
    "print(\"done processing entries! output is %s\" % output_f)\n",
    "df.to_csv(output_f)"
   ]
  },
  {
   "cell_type": "code",
   "execution_count": 12,
   "metadata": {},
   "outputs": [
    {
     "data": {
      "text/html": [
       "<div><svg style=\"position: absolute; width: 0; height: 0; overflow: hidden\">\n",
       "<defs>\n",
       "<symbol id=\"icon-database\" viewBox=\"0 0 32 32\">\n",
       "<path d=\"M16 0c-8.837 0-16 2.239-16 5v4c0 2.761 7.163 5 16 5s16-2.239 16-5v-4c0-2.761-7.163-5-16-5z\"></path>\n",
       "<path d=\"M16 17c-8.837 0-16-2.239-16-5v6c0 2.761 7.163 5 16 5s16-2.239 16-5v-6c0 2.761-7.163 5-16 5z\"></path>\n",
       "<path d=\"M16 26c-8.837 0-16-2.239-16-5v6c0 2.761 7.163 5 16 5s16-2.239 16-5v-6c0 2.761-7.163 5-16 5z\"></path>\n",
       "</symbol>\n",
       "<symbol id=\"icon-file-text2\" viewBox=\"0 0 32 32\">\n",
       "<path d=\"M28.681 7.159c-0.694-0.947-1.662-2.053-2.724-3.116s-2.169-2.030-3.116-2.724c-1.612-1.182-2.393-1.319-2.841-1.319h-15.5c-1.378 0-2.5 1.121-2.5 2.5v27c0 1.378 1.122 2.5 2.5 2.5h23c1.378 0 2.5-1.122 2.5-2.5v-19.5c0-0.448-0.137-1.23-1.319-2.841zM24.543 5.457c0.959 0.959 1.712 1.825 2.268 2.543h-4.811v-4.811c0.718 0.556 1.584 1.309 2.543 2.268zM28 29.5c0 0.271-0.229 0.5-0.5 0.5h-23c-0.271 0-0.5-0.229-0.5-0.5v-27c0-0.271 0.229-0.5 0.5-0.5 0 0 15.499-0 15.5 0v7c0 0.552 0.448 1 1 1h7v19.5z\"></path>\n",
       "<path d=\"M23 26h-14c-0.552 0-1-0.448-1-1s0.448-1 1-1h14c0.552 0 1 0.448 1 1s-0.448 1-1 1z\"></path>\n",
       "<path d=\"M23 22h-14c-0.552 0-1-0.448-1-1s0.448-1 1-1h14c0.552 0 1 0.448 1 1s-0.448 1-1 1z\"></path>\n",
       "<path d=\"M23 18h-14c-0.552 0-1-0.448-1-1s0.448-1 1-1h14c0.552 0 1 0.448 1 1s-0.448 1-1 1z\"></path>\n",
       "</symbol>\n",
       "</defs>\n",
       "</svg>\n",
       "<style>/* CSS stylesheet for displaying xarray objects in jupyterlab.\n",
       " *\n",
       " */\n",
       "\n",
       ":root {\n",
       "  --xr-font-color0: var(--jp-content-font-color0, rgba(0, 0, 0, 1));\n",
       "  --xr-font-color2: var(--jp-content-font-color2, rgba(0, 0, 0, 0.54));\n",
       "  --xr-font-color3: var(--jp-content-font-color3, rgba(0, 0, 0, 0.38));\n",
       "  --xr-border-color: var(--jp-border-color2, #e0e0e0);\n",
       "  --xr-disabled-color: var(--jp-layout-color3, #bdbdbd);\n",
       "  --xr-background-color: var(--jp-layout-color0, white);\n",
       "  --xr-background-color-row-even: var(--jp-layout-color1, white);\n",
       "  --xr-background-color-row-odd: var(--jp-layout-color2, #eeeeee);\n",
       "}\n",
       "\n",
       "html[theme=dark],\n",
       "body.vscode-dark {\n",
       "  --xr-font-color0: rgba(255, 255, 255, 1);\n",
       "  --xr-font-color2: rgba(255, 255, 255, 0.54);\n",
       "  --xr-font-color3: rgba(255, 255, 255, 0.38);\n",
       "  --xr-border-color: #1F1F1F;\n",
       "  --xr-disabled-color: #515151;\n",
       "  --xr-background-color: #111111;\n",
       "  --xr-background-color-row-even: #111111;\n",
       "  --xr-background-color-row-odd: #313131;\n",
       "}\n",
       "\n",
       ".xr-wrap {\n",
       "  display: block;\n",
       "  min-width: 300px;\n",
       "  max-width: 700px;\n",
       "}\n",
       "\n",
       ".xr-text-repr-fallback {\n",
       "  /* fallback to plain text repr when CSS is not injected (untrusted notebook) */\n",
       "  display: none;\n",
       "}\n",
       "\n",
       ".xr-header {\n",
       "  padding-top: 6px;\n",
       "  padding-bottom: 6px;\n",
       "  margin-bottom: 4px;\n",
       "  border-bottom: solid 1px var(--xr-border-color);\n",
       "}\n",
       "\n",
       ".xr-header > div,\n",
       ".xr-header > ul {\n",
       "  display: inline;\n",
       "  margin-top: 0;\n",
       "  margin-bottom: 0;\n",
       "}\n",
       "\n",
       ".xr-obj-type,\n",
       ".xr-array-name {\n",
       "  margin-left: 2px;\n",
       "  margin-right: 10px;\n",
       "}\n",
       "\n",
       ".xr-obj-type {\n",
       "  color: var(--xr-font-color2);\n",
       "}\n",
       "\n",
       ".xr-sections {\n",
       "  padding-left: 0 !important;\n",
       "  display: grid;\n",
       "  grid-template-columns: 150px auto auto 1fr 20px 20px;\n",
       "}\n",
       "\n",
       ".xr-section-item {\n",
       "  display: contents;\n",
       "}\n",
       "\n",
       ".xr-section-item input {\n",
       "  display: none;\n",
       "}\n",
       "\n",
       ".xr-section-item input + label {\n",
       "  color: var(--xr-disabled-color);\n",
       "}\n",
       "\n",
       ".xr-section-item input:enabled + label {\n",
       "  cursor: pointer;\n",
       "  color: var(--xr-font-color2);\n",
       "}\n",
       "\n",
       ".xr-section-item input:enabled + label:hover {\n",
       "  color: var(--xr-font-color0);\n",
       "}\n",
       "\n",
       ".xr-section-summary {\n",
       "  grid-column: 1;\n",
       "  color: var(--xr-font-color2);\n",
       "  font-weight: 500;\n",
       "}\n",
       "\n",
       ".xr-section-summary > span {\n",
       "  display: inline-block;\n",
       "  padding-left: 0.5em;\n",
       "}\n",
       "\n",
       ".xr-section-summary-in:disabled + label {\n",
       "  color: var(--xr-font-color2);\n",
       "}\n",
       "\n",
       ".xr-section-summary-in + label:before {\n",
       "  display: inline-block;\n",
       "  content: '►';\n",
       "  font-size: 11px;\n",
       "  width: 15px;\n",
       "  text-align: center;\n",
       "}\n",
       "\n",
       ".xr-section-summary-in:disabled + label:before {\n",
       "  color: var(--xr-disabled-color);\n",
       "}\n",
       "\n",
       ".xr-section-summary-in:checked + label:before {\n",
       "  content: '▼';\n",
       "}\n",
       "\n",
       ".xr-section-summary-in:checked + label > span {\n",
       "  display: none;\n",
       "}\n",
       "\n",
       ".xr-section-summary,\n",
       ".xr-section-inline-details {\n",
       "  padding-top: 4px;\n",
       "  padding-bottom: 4px;\n",
       "}\n",
       "\n",
       ".xr-section-inline-details {\n",
       "  grid-column: 2 / -1;\n",
       "}\n",
       "\n",
       ".xr-section-details {\n",
       "  display: none;\n",
       "  grid-column: 1 / -1;\n",
       "  margin-bottom: 5px;\n",
       "}\n",
       "\n",
       ".xr-section-summary-in:checked ~ .xr-section-details {\n",
       "  display: contents;\n",
       "}\n",
       "\n",
       ".xr-array-wrap {\n",
       "  grid-column: 1 / -1;\n",
       "  display: grid;\n",
       "  grid-template-columns: 20px auto;\n",
       "}\n",
       "\n",
       ".xr-array-wrap > label {\n",
       "  grid-column: 1;\n",
       "  vertical-align: top;\n",
       "}\n",
       "\n",
       ".xr-preview {\n",
       "  color: var(--xr-font-color3);\n",
       "}\n",
       "\n",
       ".xr-array-preview,\n",
       ".xr-array-data {\n",
       "  padding: 0 5px !important;\n",
       "  grid-column: 2;\n",
       "}\n",
       "\n",
       ".xr-array-data,\n",
       ".xr-array-in:checked ~ .xr-array-preview {\n",
       "  display: none;\n",
       "}\n",
       "\n",
       ".xr-array-in:checked ~ .xr-array-data,\n",
       ".xr-array-preview {\n",
       "  display: inline-block;\n",
       "}\n",
       "\n",
       ".xr-dim-list {\n",
       "  display: inline-block !important;\n",
       "  list-style: none;\n",
       "  padding: 0 !important;\n",
       "  margin: 0;\n",
       "}\n",
       "\n",
       ".xr-dim-list li {\n",
       "  display: inline-block;\n",
       "  padding: 0;\n",
       "  margin: 0;\n",
       "}\n",
       "\n",
       ".xr-dim-list:before {\n",
       "  content: '(';\n",
       "}\n",
       "\n",
       ".xr-dim-list:after {\n",
       "  content: ')';\n",
       "}\n",
       "\n",
       ".xr-dim-list li:not(:last-child):after {\n",
       "  content: ',';\n",
       "  padding-right: 5px;\n",
       "}\n",
       "\n",
       ".xr-has-index {\n",
       "  font-weight: bold;\n",
       "}\n",
       "\n",
       ".xr-var-list,\n",
       ".xr-var-item {\n",
       "  display: contents;\n",
       "}\n",
       "\n",
       ".xr-var-item > div,\n",
       ".xr-var-item label,\n",
       ".xr-var-item > .xr-var-name span {\n",
       "  background-color: var(--xr-background-color-row-even);\n",
       "  margin-bottom: 0;\n",
       "}\n",
       "\n",
       ".xr-var-item > .xr-var-name:hover span {\n",
       "  padding-right: 5px;\n",
       "}\n",
       "\n",
       ".xr-var-list > li:nth-child(odd) > div,\n",
       ".xr-var-list > li:nth-child(odd) > label,\n",
       ".xr-var-list > li:nth-child(odd) > .xr-var-name span {\n",
       "  background-color: var(--xr-background-color-row-odd);\n",
       "}\n",
       "\n",
       ".xr-var-name {\n",
       "  grid-column: 1;\n",
       "}\n",
       "\n",
       ".xr-var-dims {\n",
       "  grid-column: 2;\n",
       "}\n",
       "\n",
       ".xr-var-dtype {\n",
       "  grid-column: 3;\n",
       "  text-align: right;\n",
       "  color: var(--xr-font-color2);\n",
       "}\n",
       "\n",
       ".xr-var-preview {\n",
       "  grid-column: 4;\n",
       "}\n",
       "\n",
       ".xr-var-name,\n",
       ".xr-var-dims,\n",
       ".xr-var-dtype,\n",
       ".xr-preview,\n",
       ".xr-attrs dt {\n",
       "  white-space: nowrap;\n",
       "  overflow: hidden;\n",
       "  text-overflow: ellipsis;\n",
       "  padding-right: 10px;\n",
       "}\n",
       "\n",
       ".xr-var-name:hover,\n",
       ".xr-var-dims:hover,\n",
       ".xr-var-dtype:hover,\n",
       ".xr-attrs dt:hover {\n",
       "  overflow: visible;\n",
       "  width: auto;\n",
       "  z-index: 1;\n",
       "}\n",
       "\n",
       ".xr-var-attrs,\n",
       ".xr-var-data {\n",
       "  display: none;\n",
       "  background-color: var(--xr-background-color) !important;\n",
       "  padding-bottom: 5px !important;\n",
       "}\n",
       "\n",
       ".xr-var-attrs-in:checked ~ .xr-var-attrs,\n",
       ".xr-var-data-in:checked ~ .xr-var-data {\n",
       "  display: block;\n",
       "}\n",
       "\n",
       ".xr-var-data > table {\n",
       "  float: right;\n",
       "}\n",
       "\n",
       ".xr-var-name span,\n",
       ".xr-var-data,\n",
       ".xr-attrs {\n",
       "  padding-left: 25px !important;\n",
       "}\n",
       "\n",
       ".xr-attrs,\n",
       ".xr-var-attrs,\n",
       ".xr-var-data {\n",
       "  grid-column: 1 / -1;\n",
       "}\n",
       "\n",
       "dl.xr-attrs {\n",
       "  padding: 0;\n",
       "  margin: 0;\n",
       "  display: grid;\n",
       "  grid-template-columns: 125px auto;\n",
       "}\n",
       "\n",
       ".xr-attrs dt, dd {\n",
       "  padding: 0;\n",
       "  margin: 0;\n",
       "  float: left;\n",
       "  padding-right: 10px;\n",
       "  width: auto;\n",
       "}\n",
       "\n",
       ".xr-attrs dt {\n",
       "  font-weight: normal;\n",
       "  grid-column: 1;\n",
       "}\n",
       "\n",
       ".xr-attrs dt:hover span {\n",
       "  display: inline-block;\n",
       "  background: var(--xr-background-color);\n",
       "  padding-right: 10px;\n",
       "}\n",
       "\n",
       ".xr-attrs dd {\n",
       "  grid-column: 2;\n",
       "  white-space: pre-wrap;\n",
       "  word-break: break-all;\n",
       "}\n",
       "\n",
       ".xr-icon-database,\n",
       ".xr-icon-file-text2 {\n",
       "  display: inline-block;\n",
       "  vertical-align: middle;\n",
       "  width: 1em;\n",
       "  height: 1.5em !important;\n",
       "  stroke-width: 0;\n",
       "  stroke: currentColor;\n",
       "  fill: currentColor;\n",
       "}\n",
       "</style><pre class='xr-text-repr-fallback'>&lt;xarray.Dataset&gt;\n",
       "Dimensions:     (crs: 1, day: 366, lat: 585, lon: 1386)\n",
       "Coordinates:\n",
       "  * lon         (lon) float64 -124.8 -124.7 -124.7 ... -67.14 -67.1 -67.06\n",
       "  * lat         (lat) float64 49.4 49.36 49.32 49.28 ... 25.19 25.15 25.11 25.07\n",
       "  * day         (day) float64 3.36e+04 3.36e+04 3.36e+04 ... 3.397e+04 3.397e+04\n",
       "  * crs         (crs) uint16 3\n",
       "Data variables:\n",
       "    wind_speed  (day, lat, lon) uint16 ...\n",
       "Attributes:\n",
       "    geospatial_bounds_crs:      EPSG:4326\n",
       "    Conventions:                CF-1.6\n",
       "    geospatial_bounds:          POLYGON((-124.7666666333333 49.40000000000000...\n",
       "    geospatial_lat_min:         25.066666666666666\n",
       "    geospatial_lat_max:         49.40000000000000\n",
       "    geospatial_lon_min:         -124.7666666333333\n",
       "    geospatial_lon_max:         -67.058333300000015\n",
       "    geospatial_lon_resolution:  0.041666666666666\n",
       "    geospatial_lat_resolution:  0.041666666666666\n",
       "    geospatial_lat_units:       decimal_degrees north\n",
       "    geospatial_lon_units:       decimal_degrees east\n",
       "    coordinate_system:          EPSG:4326\n",
       "    author:                     John Abatzoglou - University of Idaho, jabatz...\n",
       "    date:                       03 July 2019\n",
       "    note1:                      The projection information for this file is: ...\n",
       "    note2:                      Citation: Abatzoglou, J.T., 2013, Development...\n",
       "    note3:                      Data in slices after last_permanent_slice (1-...\n",
       "    note4:                      Data in slices after last_provisional_slice (...\n",
       "    note5:                      Days correspond approximately to calendar day...</pre><div class='xr-wrap' hidden><div class='xr-header'><div class='xr-obj-type'>xarray.Dataset</div></div><ul class='xr-sections'><li class='xr-section-item'><input id='section-7d483dd3-cf50-4358-8950-089a22361eac' class='xr-section-summary-in' type='checkbox' disabled ><label for='section-7d483dd3-cf50-4358-8950-089a22361eac' class='xr-section-summary'  title='Expand/collapse section'>Dimensions:</label><div class='xr-section-inline-details'><ul class='xr-dim-list'><li><span class='xr-has-index'>crs</span>: 1</li><li><span class='xr-has-index'>day</span>: 366</li><li><span class='xr-has-index'>lat</span>: 585</li><li><span class='xr-has-index'>lon</span>: 1386</li></ul></div><div class='xr-section-details'></div></li><li class='xr-section-item'><input id='section-c5b71275-eac3-4773-b2ad-1f3fb9bc87ba' class='xr-section-summary-in' type='checkbox'  checked><label for='section-c5b71275-eac3-4773-b2ad-1f3fb9bc87ba' class='xr-section-summary' >Coordinates: <span>(4)</span></label><div class='xr-section-inline-details'></div><div class='xr-section-details'><ul class='xr-var-list'><li class='xr-var-item'><div class='xr-var-name'><span class='xr-has-index'>lon</span></div><div class='xr-var-dims'>(lon)</div><div class='xr-var-dtype'>float64</div><div class='xr-var-preview xr-preview'>-124.8 -124.7 ... -67.1 -67.06</div><input id='attrs-259d2ebf-94fd-4963-bef2-affb266485cb' class='xr-var-attrs-in' type='checkbox' ><label for='attrs-259d2ebf-94fd-4963-bef2-affb266485cb' title='Show/Hide attributes'><svg class='icon xr-icon-file-text2'><use xlink:href='#icon-file-text2'></use></svg></label><input id='data-c2a53258-02af-4778-853c-480c553163e4' class='xr-var-data-in' type='checkbox'><label for='data-c2a53258-02af-4778-853c-480c553163e4' title='Show/Hide data repr'><svg class='icon xr-icon-database'><use xlink:href='#icon-database'></use></svg></label><div class='xr-var-attrs'><dl class='xr-attrs'><dt><span>units :</span></dt><dd>degrees_east</dd><dt><span>description :</span></dt><dd>longitude</dd><dt><span>long_name :</span></dt><dd>longitude</dd><dt><span>standard_name :</span></dt><dd>longitude</dd><dt><span>axis :</span></dt><dd>X</dd></dl></div><div class='xr-var-data'><pre>array([-124.766667, -124.725   , -124.683333, ...,  -67.141667,  -67.1     ,\n",
       "        -67.058333])</pre></div></li><li class='xr-var-item'><div class='xr-var-name'><span class='xr-has-index'>lat</span></div><div class='xr-var-dims'>(lat)</div><div class='xr-var-dtype'>float64</div><div class='xr-var-preview xr-preview'>49.4 49.36 49.32 ... 25.11 25.07</div><input id='attrs-ca48dd20-bc7c-4d41-93d8-0f86ba580c59' class='xr-var-attrs-in' type='checkbox' ><label for='attrs-ca48dd20-bc7c-4d41-93d8-0f86ba580c59' title='Show/Hide attributes'><svg class='icon xr-icon-file-text2'><use xlink:href='#icon-file-text2'></use></svg></label><input id='data-ea1e51ec-b505-4a75-8e7d-392d6e29fac9' class='xr-var-data-in' type='checkbox'><label for='data-ea1e51ec-b505-4a75-8e7d-392d6e29fac9' title='Show/Hide data repr'><svg class='icon xr-icon-database'><use xlink:href='#icon-database'></use></svg></label><div class='xr-var-attrs'><dl class='xr-attrs'><dt><span>units :</span></dt><dd>degrees_north</dd><dt><span>description :</span></dt><dd>latitude</dd><dt><span>long_name :</span></dt><dd>latitude</dd><dt><span>standard_name :</span></dt><dd>latitude</dd><dt><span>axis :</span></dt><dd>Y</dd></dl></div><div class='xr-var-data'><pre>array([49.4     , 49.358333, 49.316667, ..., 25.15    , 25.108333, 25.066667])</pre></div></li><li class='xr-var-item'><div class='xr-var-name'><span class='xr-has-index'>day</span></div><div class='xr-var-dims'>(day)</div><div class='xr-var-dtype'>float64</div><div class='xr-var-preview xr-preview'>3.36e+04 3.36e+04 ... 3.397e+04</div><input id='attrs-0fdd9495-4556-42cb-bd82-91eb34deb3b4' class='xr-var-attrs-in' type='checkbox' ><label for='attrs-0fdd9495-4556-42cb-bd82-91eb34deb3b4' title='Show/Hide attributes'><svg class='icon xr-icon-file-text2'><use xlink:href='#icon-file-text2'></use></svg></label><input id='data-5ffa95cd-f749-4792-be55-3478702f29b0' class='xr-var-data-in' type='checkbox'><label for='data-5ffa95cd-f749-4792-be55-3478702f29b0' title='Show/Hide data repr'><svg class='icon xr-icon-database'><use xlink:href='#icon-database'></use></svg></label><div class='xr-var-attrs'><dl class='xr-attrs'><dt><span>description :</span></dt><dd>days since 1900-01-01</dd><dt><span>units :</span></dt><dd>days since 1900-01-01 00:00:00</dd><dt><span>long_name :</span></dt><dd>time</dd><dt><span>standard_name :</span></dt><dd>time</dd><dt><span>calendar :</span></dt><dd>gregorian</dd></dl></div><div class='xr-var-data'><pre>array([33602., 33603., 33604., ..., 33965., 33966., 33967.])</pre></div></li><li class='xr-var-item'><div class='xr-var-name'><span class='xr-has-index'>crs</span></div><div class='xr-var-dims'>(crs)</div><div class='xr-var-dtype'>uint16</div><div class='xr-var-preview xr-preview'>3</div><input id='attrs-94c70b4e-133e-4f6f-b437-4bf3a98b4b43' class='xr-var-attrs-in' type='checkbox' ><label for='attrs-94c70b4e-133e-4f6f-b437-4bf3a98b4b43' title='Show/Hide attributes'><svg class='icon xr-icon-file-text2'><use xlink:href='#icon-file-text2'></use></svg></label><input id='data-d65d84d4-2ac6-4dfb-8578-a920fc76a4c2' class='xr-var-data-in' type='checkbox'><label for='data-d65d84d4-2ac6-4dfb-8578-a920fc76a4c2' title='Show/Hide data repr'><svg class='icon xr-icon-database'><use xlink:href='#icon-database'></use></svg></label><div class='xr-var-attrs'><dl class='xr-attrs'><dt><span>grid_mapping_name :</span></dt><dd>latitude_longitude</dd><dt><span>longitude_of_prime_meridian :</span></dt><dd>0.0</dd><dt><span>semi_major_axis :</span></dt><dd>6378137.0</dd><dt><span>long_name :</span></dt><dd>WGS 84</dd><dt><span>inverse_flattening :</span></dt><dd>298.257223563</dd><dt><span>GeoTransform :</span></dt><dd>-124.7666666333333 0.041666666666666 0  49.400000000000000 -0.041666666666666</dd><dt><span>spatial_ref :</span></dt><dd>GEOGCS[&quot;WGS 84&quot;,DATUM[&quot;WGS_1984&quot;,SPHEROID[&quot;WGS 84&quot;,6378137,298.257223563,AUTHORITY[&quot;EPSG&quot;,&quot;7030&quot;]],AUTHORITY[&quot;EPSG&quot;,&quot;6326&quot;]],PRIMEM[&quot;Greenwich&quot;,0,AUTHORITY[&quot;EPSG&quot;,&quot;8901&quot;]],UNIT[&quot;degree&quot;,0.0174532925199433,AUTHORITY[&quot;EPSG&quot;,&quot;9122&quot;]],AUTHORITY[&quot;EPSG&quot;,&quot;4326&quot;]]</dd></dl></div><div class='xr-var-data'><pre>array([3], dtype=uint16)</pre></div></li></ul></div></li><li class='xr-section-item'><input id='section-9930acdb-6205-41fc-9472-4e4bcd28b8a0' class='xr-section-summary-in' type='checkbox'  checked><label for='section-9930acdb-6205-41fc-9472-4e4bcd28b8a0' class='xr-section-summary' >Data variables: <span>(1)</span></label><div class='xr-section-inline-details'></div><div class='xr-section-details'><ul class='xr-var-list'><li class='xr-var-item'><div class='xr-var-name'><span>wind_speed</span></div><div class='xr-var-dims'>(day, lat, lon)</div><div class='xr-var-dtype'>uint16</div><div class='xr-var-preview xr-preview'>...</div><input id='attrs-88271ecd-06a9-42c9-acc9-0702128d0779' class='xr-var-attrs-in' type='checkbox' ><label for='attrs-88271ecd-06a9-42c9-acc9-0702128d0779' title='Show/Hide attributes'><svg class='icon xr-icon-file-text2'><use xlink:href='#icon-file-text2'></use></svg></label><input id='data-c4b39ec1-369a-46ca-89d1-9e7ec7744e5b' class='xr-var-data-in' type='checkbox'><label for='data-c4b39ec1-369a-46ca-89d1-9e7ec7744e5b' title='Show/Hide data repr'><svg class='icon xr-icon-database'><use xlink:href='#icon-database'></use></svg></label><div class='xr-var-attrs'><dl class='xr-attrs'><dt><span>_FillValue :</span></dt><dd>32767</dd><dt><span>units :</span></dt><dd>m/s</dd><dt><span>description :</span></dt><dd>Daily Mean Wind Speed</dd><dt><span>long_name :</span></dt><dd>vs</dd><dt><span>standard_name :</span></dt><dd>vs</dd><dt><span>missing_value :</span></dt><dd>32767</dd><dt><span>dimensions :</span></dt><dd>lon lat time</dd><dt><span>grid_mapping :</span></dt><dd>crs</dd><dt><span>coordinate_system :</span></dt><dd>WGS84,EPSG:4326</dd><dt><span>scale_factor :</span></dt><dd>0.1</dd><dt><span>add_offset :</span></dt><dd>0.0</dd><dt><span>coordinates :</span></dt><dd>lon lat</dd><dt><span>_Unsigned :</span></dt><dd>true</dd></dl></div><div class='xr-var-data'><pre>[296756460 values with dtype=uint16]</pre></div></li></ul></div></li><li class='xr-section-item'><input id='section-f74ef095-be2a-4e13-a675-b0b11510357f' class='xr-section-summary-in' type='checkbox'  ><label for='section-f74ef095-be2a-4e13-a675-b0b11510357f' class='xr-section-summary' >Attributes: <span>(19)</span></label><div class='xr-section-inline-details'></div><div class='xr-section-details'><dl class='xr-attrs'><dt><span>geospatial_bounds_crs :</span></dt><dd>EPSG:4326</dd><dt><span>Conventions :</span></dt><dd>CF-1.6</dd><dt><span>geospatial_bounds :</span></dt><dd>POLYGON((-124.7666666333333 49.400000000000000, -124.7666666333333 25.066666666666666, -67.058333300000015 25.066666666666666, -67.058333300000015 49.400000000000000, -124.7666666333333 49.400000000000000))</dd><dt><span>geospatial_lat_min :</span></dt><dd>25.066666666666666</dd><dt><span>geospatial_lat_max :</span></dt><dd>49.40000000000000</dd><dt><span>geospatial_lon_min :</span></dt><dd>-124.7666666333333</dd><dt><span>geospatial_lon_max :</span></dt><dd>-67.058333300000015</dd><dt><span>geospatial_lon_resolution :</span></dt><dd>0.041666666666666</dd><dt><span>geospatial_lat_resolution :</span></dt><dd>0.041666666666666</dd><dt><span>geospatial_lat_units :</span></dt><dd>decimal_degrees north</dd><dt><span>geospatial_lon_units :</span></dt><dd>decimal_degrees east</dd><dt><span>coordinate_system :</span></dt><dd>EPSG:4326</dd><dt><span>author :</span></dt><dd>John Abatzoglou - University of Idaho, jabatzoglou@uidaho.edu</dd><dt><span>date :</span></dt><dd>03 July 2019</dd><dt><span>note1 :</span></dt><dd>The projection information for this file is: GCS WGS 1984.</dd><dt><span>note2 :</span></dt><dd>Citation: Abatzoglou, J.T., 2013, Development of gridded surface meteorological data for ecological applications and modeling, International Journal of Climatology, DOI: 10.1002/joc.3413</dd><dt><span>note3 :</span></dt><dd>Data in slices after last_permanent_slice (1-based) are considered provisional and subject to change with subsequent updates</dd><dt><span>note4 :</span></dt><dd>Data in slices after last_provisional_slice (1-based) are considered early and subject to change with subsequent updates</dd><dt><span>note5 :</span></dt><dd>Days correspond approximately to calendar days ending at midnight, Mountain Standard Time (7 UTC the next calendar day)</dd></dl></div></li></ul></div></div>"
      ],
      "text/plain": [
       "<xarray.Dataset>\n",
       "Dimensions:     (crs: 1, day: 366, lat: 585, lon: 1386)\n",
       "Coordinates:\n",
       "  * lon         (lon) float64 -124.8 -124.7 -124.7 ... -67.14 -67.1 -67.06\n",
       "  * lat         (lat) float64 49.4 49.36 49.32 49.28 ... 25.19 25.15 25.11 25.07\n",
       "  * day         (day) float64 3.36e+04 3.36e+04 3.36e+04 ... 3.397e+04 3.397e+04\n",
       "  * crs         (crs) uint16 3\n",
       "Data variables:\n",
       "    wind_speed  (day, lat, lon) uint16 ...\n",
       "Attributes:\n",
       "    geospatial_bounds_crs:      EPSG:4326\n",
       "    Conventions:                CF-1.6\n",
       "    geospatial_bounds:          POLYGON((-124.7666666333333 49.40000000000000...\n",
       "    geospatial_lat_min:         25.066666666666666\n",
       "    geospatial_lat_max:         49.40000000000000\n",
       "    geospatial_lon_min:         -124.7666666333333\n",
       "    geospatial_lon_max:         -67.058333300000015\n",
       "    geospatial_lon_resolution:  0.041666666666666\n",
       "    geospatial_lat_resolution:  0.041666666666666\n",
       "    geospatial_lat_units:       decimal_degrees north\n",
       "    geospatial_lon_units:       decimal_degrees east\n",
       "    coordinate_system:          EPSG:4326\n",
       "    author:                     John Abatzoglou - University of Idaho, jabatz...\n",
       "    date:                       03 July 2019\n",
       "    note1:                      The projection information for this file is: ...\n",
       "    note2:                      Citation: Abatzoglou, J.T., 2013, Development...\n",
       "    note3:                      Data in slices after last_permanent_slice (1-...\n",
       "    note4:                      Data in slices after last_provisional_slice (...\n",
       "    note5:                      Days correspond approximately to calendar day..."
      ]
     },
     "execution_count": 12,
     "metadata": {},
     "output_type": "execute_result"
    }
   ],
   "source": [
    "ds = xr.open_dataset(\"mnet/vs_1992.nc\", decode_cf=False)\n",
    "ds"
   ]
  }
 ],
 "metadata": {
  "kernelspec": {
   "display_name": "Python 3",
   "language": "python",
   "name": "python3"
  },
  "language_info": {
   "codemirror_mode": {
    "name": "ipython",
    "version": 3
   },
   "file_extension": ".py",
   "mimetype": "text/x-python",
   "name": "python",
   "nbconvert_exporter": "python",
   "pygments_lexer": "ipython3",
   "version": "3.8.3"
  }
 },
 "nbformat": 4,
 "nbformat_minor": 4
}
